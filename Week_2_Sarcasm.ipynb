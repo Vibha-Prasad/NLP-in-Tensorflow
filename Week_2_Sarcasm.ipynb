{
  "nbformat": 4,
  "nbformat_minor": 0,
  "metadata": {
    "colab": {
      "name": "Week_2_Sarcasm.ipynb",
      "provenance": []
    },
    "kernelspec": {
      "name": "python3",
      "display_name": "Python 3"
    }
  },
  "cells": [
    {
      "cell_type": "code",
      "metadata": {
        "id": "RHzWHRkYgSNF"
      },
      "source": [
        "try:\n",
        "  # %tensorflow_version only exists in Colab.\n",
        "  %tensorflow_version 2.x\n",
        "except Exception:\n",
        "  pass"
      ],
      "execution_count": 1,
      "outputs": []
    },
    {
      "cell_type": "code",
      "metadata": {
        "id": "-T5wicP6gXom"
      },
      "source": [
        "import json\n",
        "import tensorflow as tf\n",
        "\n",
        "from tensorflow.keras.preprocessing.text import Tokenizer\n",
        "from tensorflow.keras.preprocessing.sequence import pad_sequences"
      ],
      "execution_count": 2,
      "outputs": []
    },
    {
      "cell_type": "code",
      "metadata": {
        "id": "kkBkP3UIgX05"
      },
      "source": [
        "vocab_size = 10000\n",
        "embedding_dim = 16\n",
        "max_length = 100\n",
        "trunc_type='post'\n",
        "padding_type='post'\n",
        "oov_tok = \"<OOV>\"\n",
        "training_size = 20000"
      ],
      "execution_count": 3,
      "outputs": []
    },
    {
      "cell_type": "code",
      "metadata": {
        "id": "iD5yg6YSgX9T",
        "outputId": "76d1b430-c6fc-48ac-a9c5-6b6f58bd5552",
        "colab": {
          "base_uri": "https://localhost:8080/",
          "height": 222
        }
      },
      "source": [
        "!wget --no-check-certificate \\\n",
        "    https://storage.googleapis.com/laurencemoroney-blog.appspot.com/sarcasm.json \\\n",
        "    -O /tmp/sarcasm.json\n"
      ],
      "execution_count": 4,
      "outputs": [
        {
          "output_type": "stream",
          "text": [
            "--2020-10-24 16:47:43--  https://storage.googleapis.com/laurencemoroney-blog.appspot.com/sarcasm.json\n",
            "Resolving storage.googleapis.com (storage.googleapis.com)... 173.194.212.128, 173.194.213.128, 173.194.215.128, ...\n",
            "Connecting to storage.googleapis.com (storage.googleapis.com)|173.194.212.128|:443... connected.\n",
            "HTTP request sent, awaiting response... 200 OK\n",
            "Length: 5643545 (5.4M) [application/json]\n",
            "Saving to: ‘/tmp/sarcasm.json’\n",
            "\n",
            "\r/tmp/sarcasm.json     0%[                    ]       0  --.-KB/s               \r/tmp/sarcasm.json   100%[===================>]   5.38M  --.-KB/s    in 0.05s   \n",
            "\n",
            "2020-10-24 16:47:43 (105 MB/s) - ‘/tmp/sarcasm.json’ saved [5643545/5643545]\n",
            "\n"
          ],
          "name": "stdout"
        }
      ]
    },
    {
      "cell_type": "code",
      "metadata": {
        "id": "fiHFa0ADgYad"
      },
      "source": [
        "with open(\"/tmp/sarcasm.json\", 'r') as f:\n",
        "    datastore = json.load(f)\n",
        "\n",
        "sentences = []\n",
        "labels = []\n",
        "\n",
        "for item in datastore:\n",
        "    sentences.append(item['headline'])\n",
        "    labels.append(item['is_sarcastic'])"
      ],
      "execution_count": 5,
      "outputs": []
    },
    {
      "cell_type": "code",
      "metadata": {
        "id": "UqdqgfwlgnSb"
      },
      "source": [
        "training_sentences = sentences[0:training_size]\n",
        "testing_sentences = sentences[training_size:]\n",
        "training_labels = labels[0:training_size]\n",
        "testing_labels = labels[training_size:]"
      ],
      "execution_count": 6,
      "outputs": []
    },
    {
      "cell_type": "code",
      "metadata": {
        "id": "BNGmjQlignWo"
      },
      "source": [
        "tokenizer = Tokenizer(num_words=vocab_size, oov_token=oov_tok)\n",
        "tokenizer.fit_on_texts(training_sentences)\n",
        "\n",
        "word_index = tokenizer.word_index\n",
        "\n",
        "training_sequences = tokenizer.texts_to_sequences(training_sentences)\n",
        "training_padded = pad_sequences(training_sequences, maxlen=max_length, padding=padding_type, truncating=trunc_type)\n",
        "\n",
        "testing_sequences = tokenizer.texts_to_sequences(testing_sentences)\n",
        "testing_padded = pad_sequences(testing_sequences, maxlen=max_length, padding=padding_type, truncating=trunc_type)"
      ],
      "execution_count": 7,
      "outputs": []
    },
    {
      "cell_type": "code",
      "metadata": {
        "id": "o8C89DGKgnZb"
      },
      "source": [
        "# Need this block to get it to work with TensorFlow 2.x\n",
        "import numpy as np\n",
        "training_padded = np.array(training_padded)\n",
        "training_labels = np.array(training_labels)\n",
        "testing_padded = np.array(testing_padded)\n",
        "testing_labels = np.array(testing_labels)"
      ],
      "execution_count": 8,
      "outputs": []
    },
    {
      "cell_type": "code",
      "metadata": {
        "id": "P1lmIZF7gncK"
      },
      "source": [
        "model = tf.keras.Sequential([\n",
        "    tf.keras.layers.Embedding(vocab_size, embedding_dim, input_length=max_length),\n",
        "    tf.keras.layers.GlobalAveragePooling1D(),\n",
        "    tf.keras.layers.Dense(24, activation='relu'),\n",
        "    tf.keras.layers.Dense(1, activation='sigmoid')\n",
        "])\n",
        "model.compile(loss='binary_crossentropy',optimizer='adam',metrics=['accuracy'])"
      ],
      "execution_count": 9,
      "outputs": []
    },
    {
      "cell_type": "code",
      "metadata": {
        "id": "nuDkIyyAgw0h",
        "outputId": "ba735b53-c770-4652-8648-6ef4c6beed3c",
        "colab": {
          "base_uri": "https://localhost:8080/",
          "height": 286
        }
      },
      "source": [
        "model.summary()"
      ],
      "execution_count": 10,
      "outputs": [
        {
          "output_type": "stream",
          "text": [
            "Model: \"sequential\"\n",
            "_________________________________________________________________\n",
            "Layer (type)                 Output Shape              Param #   \n",
            "=================================================================\n",
            "embedding (Embedding)        (None, 100, 16)           160000    \n",
            "_________________________________________________________________\n",
            "global_average_pooling1d (Gl (None, 16)                0         \n",
            "_________________________________________________________________\n",
            "dense (Dense)                (None, 24)                408       \n",
            "_________________________________________________________________\n",
            "dense_1 (Dense)              (None, 1)                 25        \n",
            "=================================================================\n",
            "Total params: 160,433\n",
            "Trainable params: 160,433\n",
            "Non-trainable params: 0\n",
            "_________________________________________________________________\n"
          ],
          "name": "stdout"
        }
      ]
    },
    {
      "cell_type": "code",
      "metadata": {
        "id": "jstGKMwJgyh_",
        "outputId": "c2aed3ab-fde9-4376-ca11-47ecb033070c",
        "colab": {
          "base_uri": "https://localhost:8080/",
          "height": 1000
        }
      },
      "source": [
        "num_epochs = 30\n",
        "history = model.fit(training_padded, training_labels, epochs=num_epochs, validation_data=(testing_padded, testing_labels), verbose=2)"
      ],
      "execution_count": 11,
      "outputs": [
        {
          "output_type": "stream",
          "text": [
            "Epoch 1/30\n",
            "625/625 - 2s - loss: 0.6651 - accuracy: 0.5939 - val_loss: 0.5818 - val_accuracy: 0.6754\n",
            "Epoch 2/30\n",
            "625/625 - 2s - loss: 0.4276 - accuracy: 0.8338 - val_loss: 0.3829 - val_accuracy: 0.8398\n",
            "Epoch 3/30\n",
            "625/625 - 2s - loss: 0.3105 - accuracy: 0.8770 - val_loss: 0.3566 - val_accuracy: 0.8484\n",
            "Epoch 4/30\n",
            "625/625 - 2s - loss: 0.2599 - accuracy: 0.8999 - val_loss: 0.3434 - val_accuracy: 0.8538\n",
            "Epoch 5/30\n",
            "625/625 - 2s - loss: 0.2232 - accuracy: 0.9140 - val_loss: 0.3446 - val_accuracy: 0.8530\n",
            "Epoch 6/30\n",
            "625/625 - 2s - loss: 0.1971 - accuracy: 0.9250 - val_loss: 0.3490 - val_accuracy: 0.8538\n",
            "Epoch 7/30\n",
            "625/625 - 2s - loss: 0.1750 - accuracy: 0.9331 - val_loss: 0.3631 - val_accuracy: 0.8529\n",
            "Epoch 8/30\n",
            "625/625 - 2s - loss: 0.1571 - accuracy: 0.9420 - val_loss: 0.3777 - val_accuracy: 0.8530\n",
            "Epoch 9/30\n",
            "625/625 - 2s - loss: 0.1422 - accuracy: 0.9475 - val_loss: 0.3920 - val_accuracy: 0.8538\n",
            "Epoch 10/30\n",
            "625/625 - 2s - loss: 0.1272 - accuracy: 0.9546 - val_loss: 0.4113 - val_accuracy: 0.8514\n",
            "Epoch 11/30\n",
            "625/625 - 2s - loss: 0.1161 - accuracy: 0.9596 - val_loss: 0.4325 - val_accuracy: 0.8484\n",
            "Epoch 12/30\n",
            "625/625 - 2s - loss: 0.1061 - accuracy: 0.9639 - val_loss: 0.4557 - val_accuracy: 0.8472\n",
            "Epoch 13/30\n",
            "625/625 - 2s - loss: 0.0967 - accuracy: 0.9671 - val_loss: 0.4864 - val_accuracy: 0.8442\n",
            "Epoch 14/30\n",
            "625/625 - 2s - loss: 0.0891 - accuracy: 0.9700 - val_loss: 0.5097 - val_accuracy: 0.8411\n",
            "Epoch 15/30\n",
            "625/625 - 2s - loss: 0.0810 - accuracy: 0.9733 - val_loss: 0.5498 - val_accuracy: 0.8360\n",
            "Epoch 16/30\n",
            "625/625 - 2s - loss: 0.0766 - accuracy: 0.9750 - val_loss: 0.5697 - val_accuracy: 0.8368\n",
            "Epoch 17/30\n",
            "625/625 - 2s - loss: 0.0687 - accuracy: 0.9783 - val_loss: 0.5927 - val_accuracy: 0.8363\n",
            "Epoch 18/30\n",
            "625/625 - 2s - loss: 0.0635 - accuracy: 0.9805 - val_loss: 0.6218 - val_accuracy: 0.8335\n",
            "Epoch 19/30\n",
            "625/625 - 2s - loss: 0.0581 - accuracy: 0.9815 - val_loss: 0.6530 - val_accuracy: 0.8295\n",
            "Epoch 20/30\n",
            "625/625 - 2s - loss: 0.0544 - accuracy: 0.9824 - val_loss: 0.6840 - val_accuracy: 0.8275\n",
            "Epoch 21/30\n",
            "625/625 - 2s - loss: 0.0494 - accuracy: 0.9847 - val_loss: 0.7154 - val_accuracy: 0.8258\n",
            "Epoch 22/30\n",
            "625/625 - 2s - loss: 0.0463 - accuracy: 0.9859 - val_loss: 0.7511 - val_accuracy: 0.8265\n",
            "Epoch 23/30\n",
            "625/625 - 2s - loss: 0.0426 - accuracy: 0.9872 - val_loss: 0.8028 - val_accuracy: 0.8210\n",
            "Epoch 24/30\n",
            "625/625 - 2s - loss: 0.0386 - accuracy: 0.9893 - val_loss: 0.8406 - val_accuracy: 0.8161\n",
            "Epoch 25/30\n",
            "625/625 - 2s - loss: 0.0395 - accuracy: 0.9872 - val_loss: 0.8507 - val_accuracy: 0.8174\n",
            "Epoch 26/30\n",
            "625/625 - 2s - loss: 0.0341 - accuracy: 0.9901 - val_loss: 0.8904 - val_accuracy: 0.8152\n",
            "Epoch 27/30\n",
            "625/625 - 2s - loss: 0.0300 - accuracy: 0.9912 - val_loss: 0.9203 - val_accuracy: 0.8176\n",
            "Epoch 28/30\n",
            "625/625 - 2s - loss: 0.0279 - accuracy: 0.9921 - val_loss: 0.9731 - val_accuracy: 0.8147\n",
            "Epoch 29/30\n",
            "625/625 - 2s - loss: 0.0280 - accuracy: 0.9916 - val_loss: 1.0061 - val_accuracy: 0.8125\n",
            "Epoch 30/30\n",
            "625/625 - 2s - loss: 0.0253 - accuracy: 0.9927 - val_loss: 1.0464 - val_accuracy: 0.8129\n"
          ],
          "name": "stdout"
        }
      ]
    },
    {
      "cell_type": "code",
      "metadata": {
        "id": "xiz4JK-ng3wY",
        "outputId": "940f044a-3346-4dee-cee7-d85d3c1f6c71",
        "colab": {
          "base_uri": "https://localhost:8080/",
          "height": 541
        }
      },
      "source": [
        "import matplotlib.pyplot as plt\n",
        "\n",
        "\n",
        "def plot_graphs(history, string):\n",
        "  plt.plot(history.history[string])\n",
        "  plt.plot(history.history['val_'+string])\n",
        "  plt.xlabel(\"Epochs\")\n",
        "  plt.ylabel(string)\n",
        "  plt.legend([string, 'val_'+string])\n",
        "  plt.show()\n",
        "  \n",
        "plot_graphs(history, \"accuracy\")\n",
        "plot_graphs(history, \"loss\")"
      ],
      "execution_count": 12,
      "outputs": [
        {
          "output_type": "display_data",
          "data": {
            "image/png": "[encoded data removed]",
            "text/plain": [
              "<Figure size 432x288 with 1 Axes>"
            ]
          },
          "metadata": {
            "tags": [],
            "needs_background": "light"
          }
        },
        {
          "output_type": "display_data",
          "data": {
            "image/png": "[encoded data removed]",
            "text/plain": [
              "<Figure size 432x288 with 1 Axes>"
            ]
          },
          "metadata": {
            "tags": [],
            "needs_background": "light"
          }
        }
      ]
    },
    {
      "cell_type": "code",
      "metadata": {
        "id": "3gWodQ_2g6sM",
        "outputId": "b77b21f3-9e24-4b09-b72b-6a33bbbdff44",
        "colab": {
          "base_uri": "https://localhost:8080/",
          "height": 87
        }
      },
      "source": [
        "reverse_word_index = dict([(value, key) for (key, value) in word_index.items()])\n",
        "\n",
        "def decode_sentence(text):\n",
        "    return ' '.join([reverse_word_index.get(i, '?') for i in text])\n",
        "\n",
        "print(decode_sentence(training_padded[0]))\n",
        "print(training_sentences[2])\n",
        "print(labels[2])"
      ],
      "execution_count": 13,
      "outputs": [
        {
          "output_type": "stream",
          "text": [
            "former <OOV> store clerk sues over secret 'black <OOV> for minority shoppers ? ? ? ? ? ? ? ? ? ? ? ? ? ? ? ? ? ? ? ? ? ? ? ? ? ? ? ? ? ? ? ? ? ? ? ? ? ? ? ? ? ? ? ? ? ? ? ? ? ? ? ? ? ? ? ? ? ? ? ? ? ? ? ? ? ? ? ? ? ? ? ? ? ? ? ? ? ? ? ? ? ? ? ? ? ? ? ?\n",
            "mom starting to fear son's web series closest thing she will have to grandchild\n",
            "1\n"
          ],
          "name": "stdout"
        }
      ]
    },
    {
      "cell_type": "code",
      "metadata": {
        "id": "DRvK4x8Qg6u2",
        "outputId": "176e5980-1fd5-4ca3-fd32-4a911fc5ac6d",
        "colab": {
          "base_uri": "https://localhost:8080/",
          "height": 34
        }
      },
      "source": [
        "e = model.layers[0]\n",
        "weights = e.get_weights()[0]\n",
        "print(weights.shape) # shape: (vocab_size, embedding_dim)"
      ],
      "execution_count": 14,
      "outputs": [
        {
          "output_type": "stream",
          "text": [
            "(10000, 16)\n"
          ],
          "name": "stdout"
        }
      ]
    },
    {
      "cell_type": "code",
      "metadata": {
        "id": "4W6Yzf8jg6w7"
      },
      "source": [
        "import io\n",
        "\n",
        "out_v = io.open('vecs.tsv', 'w', encoding='utf-8')\n",
        "out_m = io.open('meta.tsv', 'w', encoding='utf-8')\n",
        "for word_num in range(1, vocab_size):\n",
        "  word = reverse_word_index[word_num]\n",
        "  embeddings = weights[word_num]\n",
        "  out_m.write(word + \"\\n\")\n",
        "  out_v.write('\\t'.join([str(x) for x in embeddings]) + \"\\n\")\n",
        "out_v.close()\n",
        "out_m.close()"
      ],
      "execution_count": 15,
      "outputs": []
    },
    {
      "cell_type": "code",
      "metadata": {
        "id": "jELdzNdZhB49"
      },
      "source": [
        "try:\n",
        "  from google.colab import files\n",
        "except ImportError:\n",
        "  pass\n",
        "else:\n",
        "  files.download('vecs.tsv')\n",
        "  files.download('meta.tsv')"
      ],
      "execution_count": null,
      "outputs": []
    },
    {
      "cell_type": "code",
      "metadata": {
        "id": "lwEkTbo4hDni",
        "outputId": "817ec484-4c3a-48ec-c5a2-40a30bf1d72f",
        "colab": {
          "base_uri": "https://localhost:8080/",
          "height": 50
        }
      },
      "source": [
        "sentence = [\"granny starting to fear spiders in the garden might be real\", \"game of thrones season finale showing this sunday night\"]\n",
        "sequences = tokenizer.texts_to_sequences(sentence)\n",
        "padded = pad_sequences(sequences, maxlen=max_length, padding=padding_type, truncating=trunc_type)\n",
        "print(model.predict(padded))"
      ],
      "execution_count": 16,
      "outputs": [
        {
          "output_type": "stream",
          "text": [
            "[[9.5924771e-01]\n",
            " [6.2316416e-05]]\n"
          ],
          "name": "stdout"
        }
      ]
    }
  ]
}