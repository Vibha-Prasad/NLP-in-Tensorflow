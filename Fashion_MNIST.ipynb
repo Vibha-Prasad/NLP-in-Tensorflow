{
  "nbformat": 4,
  "nbformat_minor": 0,
  "metadata": {
    "colab": {
      "name": "Fashion_MNIST.ipynb",
      "provenance": []
    },
    "kernelspec": {
      "display_name": "Python 3",
      "name": "python3"
    }
  },
  "cells": [
    {
      "cell_type": "code",
      "metadata": {
        "id": "94Ka0bN8AMEx",
        "outputId": "1b1b3716-a869-4f43-9494-01914cf7a07f",
        "colab": {
          "base_uri": "https://localhost:8080/"
        }
      },
      "source": [
        "import tensorflow as tf\n",
        "print(tf.__version__)"
      ],
      "execution_count": 1,
      "outputs": [
        {
          "output_type": "stream",
          "text": [
            "/usr/local/lib/python3.6/dist-packages/tensorflow/python/framework/dtypes.py:523: FutureWarning: Passing (type, 1) or '1type' as a synonym of type is deprecated; in a future version of numpy, it will be understood as (type, (1,)) / '(1,)type'.\n",
            "  _np_qint8 = np.dtype([(\"qint8\", np.int8, 1)])\n",
            "/usr/local/lib/python3.6/dist-packages/tensorflow/python/framework/dtypes.py:524: FutureWarning: Passing (type, 1) or '1type' as a synonym of type is deprecated; in a future version of numpy, it will be understood as (type, (1,)) / '(1,)type'.\n",
            "  _np_quint8 = np.dtype([(\"quint8\", np.uint8, 1)])\n",
            "/usr/local/lib/python3.6/dist-packages/tensorflow/python/framework/dtypes.py:525: FutureWarning: Passing (type, 1) or '1type' as a synonym of type is deprecated; in a future version of numpy, it will be understood as (type, (1,)) / '(1,)type'.\n",
            "  _np_qint16 = np.dtype([(\"qint16\", np.int16, 1)])\n",
            "/usr/local/lib/python3.6/dist-packages/tensorflow/python/framework/dtypes.py:526: FutureWarning: Passing (type, 1) or '1type' as a synonym of type is deprecated; in a future version of numpy, it will be understood as (type, (1,)) / '(1,)type'.\n",
            "  _np_quint16 = np.dtype([(\"quint16\", np.uint16, 1)])\n",
            "/usr/local/lib/python3.6/dist-packages/tensorflow/python/framework/dtypes.py:527: FutureWarning: Passing (type, 1) or '1type' as a synonym of type is deprecated; in a future version of numpy, it will be understood as (type, (1,)) / '(1,)type'.\n",
            "  _np_qint32 = np.dtype([(\"qint32\", np.int32, 1)])\n",
            "/usr/local/lib/python3.6/dist-packages/tensorflow/python/framework/dtypes.py:532: FutureWarning: Passing (type, 1) or '1type' as a synonym of type is deprecated; in a future version of numpy, it will be understood as (type, (1,)) / '(1,)type'.\n",
            "  np_resource = np.dtype([(\"resource\", np.ubyte, 1)])\n"
          ],
          "name": "stderr"
        },
        {
          "output_type": "stream",
          "text": [
            "2.0.0-alpha0\n"
          ],
          "name": "stdout"
        },
        {
          "output_type": "stream",
          "text": [
            "/usr/local/lib/python3.6/dist-packages/tensorboard/compat/tensorflow_stub/dtypes.py:541: FutureWarning: Passing (type, 1) or '1type' as a synonym of type is deprecated; in a future version of numpy, it will be understood as (type, (1,)) / '(1,)type'.\n",
            "  _np_qint8 = np.dtype([(\"qint8\", np.int8, 1)])\n",
            "/usr/local/lib/python3.6/dist-packages/tensorboard/compat/tensorflow_stub/dtypes.py:542: FutureWarning: Passing (type, 1) or '1type' as a synonym of type is deprecated; in a future version of numpy, it will be understood as (type, (1,)) / '(1,)type'.\n",
            "  _np_quint8 = np.dtype([(\"quint8\", np.uint8, 1)])\n",
            "/usr/local/lib/python3.6/dist-packages/tensorboard/compat/tensorflow_stub/dtypes.py:543: FutureWarning: Passing (type, 1) or '1type' as a synonym of type is deprecated; in a future version of numpy, it will be understood as (type, (1,)) / '(1,)type'.\n",
            "  _np_qint16 = np.dtype([(\"qint16\", np.int16, 1)])\n",
            "/usr/local/lib/python3.6/dist-packages/tensorboard/compat/tensorflow_stub/dtypes.py:544: FutureWarning: Passing (type, 1) or '1type' as a synonym of type is deprecated; in a future version of numpy, it will be understood as (type, (1,)) / '(1,)type'.\n",
            "  _np_quint16 = np.dtype([(\"quint16\", np.uint16, 1)])\n",
            "/usr/local/lib/python3.6/dist-packages/tensorboard/compat/tensorflow_stub/dtypes.py:545: FutureWarning: Passing (type, 1) or '1type' as a synonym of type is deprecated; in a future version of numpy, it will be understood as (type, (1,)) / '(1,)type'.\n",
            "  _np_qint32 = np.dtype([(\"qint32\", np.int32, 1)])\n",
            "/usr/local/lib/python3.6/dist-packages/tensorboard/compat/tensorflow_stub/dtypes.py:550: FutureWarning: Passing (type, 1) or '1type' as a synonym of type is deprecated; in a future version of numpy, it will be understood as (type, (1,)) / '(1,)type'.\n",
            "  np_resource = np.dtype([(\"resource\", np.ubyte, 1)])\n"
          ],
          "name": "stderr"
        }
      ]
    },
    {
      "cell_type": "code",
      "metadata": {
        "id": "zczSb70OAMGy"
      },
      "source": [
        "mnist = tf.keras.datasets.fashion_mnist"
      ],
      "execution_count": 2,
      "outputs": []
    },
    {
      "cell_type": "code",
      "metadata": {
        "id": "u2HlQnD4AMI9",
        "outputId": "bf826a8e-5155-4958-c5a5-3598f2743062",
        "colab": {
          "base_uri": "https://localhost:8080/"
        }
      },
      "source": [
        "(training_images, training_labels), (test_images, test_labels) = mnist.load_data()"
      ],
      "execution_count": 3,
      "outputs": [
        {
          "output_type": "stream",
          "text": [
            "Downloading data from https://storage.googleapis.com/tensorflow/tf-keras-datasets/train-labels-idx1-ubyte.gz\n",
            "32768/29515 [=================================] - 0s 0us/step\n",
            "Downloading data from https://storage.googleapis.com/tensorflow/tf-keras-datasets/train-images-idx3-ubyte.gz\n",
            "26427392/26421880 [==============================] - 0s 0us/step\n",
            "Downloading data from https://storage.googleapis.com/tensorflow/tf-keras-datasets/t10k-labels-idx1-ubyte.gz\n",
            "8192/5148 [===============================================] - 0s 0us/step\n",
            "Downloading data from https://storage.googleapis.com/tensorflow/tf-keras-datasets/t10k-images-idx3-ubyte.gz\n",
            "4423680/4422102 [==============================] - 0s 0us/step\n"
          ],
          "name": "stdout"
        }
      ]
    },
    {
      "cell_type": "code",
      "metadata": {
        "id": "vaV6BfQsAMLO",
        "outputId": "16ad01e8-7917-4f39-9e37-6c66e3e4b982",
        "colab": {
          "base_uri": "https://localhost:8080/",
          "height": 752
        }
      },
      "source": [
        "import numpy as np\n",
        "np.set_printoptions(linewidth=200)\n",
        "import matplotlib.pyplot as plt\n",
        "plt.imshow(training_images[242])\n",
        "print(training_labels[242])\n",
        "print(training_images[242])"
      ],
      "execution_count": 7,
      "outputs": [
        {
          "output_type": "stream",
          "text": [
            "4\n",
            "[[  0   0   0   0   0   0   0   0   0   3   0   0  88 100  99 116   3   0   0   1   0   0   0   0   0   0   0   0]\n",
            " [  0   0   0   0   0   0   2   0   0   0   0 130 255 209 206 232 255  32   0   0   0   1   0   0   0   0   0   0]\n",
            " [  0   0   0   0   0   0   0   0   0  52 153 230 222 213 185 224 219 231  90  19   0   0   0   0   0   0   0   0]\n",
            " [  0   0   0   0   0   0   0 120 196 218 218 195 197 251 255 245 187 197 214 211 209  49   0   0   0   0   0   0]\n",
            " [  0   0   0   0   1   0 130 230 198 184 176 210 208 217 255 210 198 216 207 189 211 222  20   0   1   0   0   0]\n",
            " [  0   0   0   0   0   0 193 197 178 200 185 176 169 222 232 226 182 208 194 178 195 221 146   0   0   0   0   0]\n",
            " [  0   0   0   0   0  21 213 204 182 215 174 183 195 207 212 212 190 170 168 179 205 223 205   0   0   0   0   0]\n",
            " [  0   0   0   0   0  41 215 217 193 193 193 201 194 207 211 206 180 177 203 189 212 220 216   0   0   0   0   0]\n",
            " [  0   0   0   0   0  73 220 229 189 195 194 184 178 207 205 206 212 207 205 195 232 206 231  10   0   0   0   0]\n",
            " [  0   0   0   0   0  99 219 235 194 184 194 175 168 199 201 209 206 187 174 192 249 201 210  35   0   0   0   0]\n",
            " [  0   0   0   0   0 129 216 234 200 180 193 192 194 198 213 200 204 191 164 182 255 208 214  65   0   0   0   0]\n",
            " [  0   0   0   0   0 151 209 231 214 190 197 196 196 206 209 200 203 207 198 182 255 203 203 102   0   0   0   0]\n",
            " [  0   0   0   0   0 167 202 222 220 171 175 203 191 190 202 210 207 204 215 188 255 199 200 124   0   0   0   0]\n",
            " [  0   0   0   0   0 175 219 220 216 164 181 184 172 196 208 193 177 196 205 171 255 207 201 138   0   0   0   0]\n",
            " [  0   0   0   0   0 185 225 223 205 185 191 167 174 199 203 196 178 190 183 188 255 211 199 171   0   0   0   0]\n",
            " [  0   0   0   0   0 209 226 219 237 191 169 194 204 219 168 208 201 165 177 197 255 210 211 198   0   0   0   0]\n",
            " [  0   0   0   0   0 216 227 220 235 190 199 197 197 220 200 207 177 187 211 197 254 211 207 202   0   0   0   0]\n",
            " [  0   0   0   0   0 218 226 217 224 193 187 180 172 205 211 205 219 200 206 203 248 203 204 233   0   0   0   0]\n",
            " [  0   0   0   0   0 220 226 221 231 199 194 175 171 198 205 200 202 186 183 199 220 214 207 244   0   0   0   0]\n",
            " [  0   0   0   0   9 227 224 228 227 188 198 200 193 216 210 210 210 181 177 202 164 237 206 246  26   0   0   0]\n",
            " [  0   0   0   0  40 224 211 239 191 206 197 209 216 221 218 202 221 206 185 216 140 254 193 226  51   0   0   0]\n",
            " [  0   0   0   0  57 227 205 251 172 194 179 230 206 204 204 226 220 219 205 224 112 254 199 222  61   0   0   0]\n",
            " [  0   0   0   0  71 230 225 245 155 191 187 187 184 235 209 196 181 201 198 223  71 229 219 206  84   0   0   0]\n",
            " [  0   0   0   0  95 233 236 198 124 226 169 187 209 224 189 202 190 188 168 236  61 208 230 213 107   0   0   0]\n",
            " [  0   0   0   0 118 212 241 150 131 255 226 225 235 222 197 222 214 202 231 255  25 198 233 212 103   0   0   0]\n",
            " [  0   0   0   0 130 207 237 162   0  41  47  56  29 166 171  41  38  32  41  23   0 188 233 204 106   0   0   0]\n",
            " [  0   0   0   0 150 230 252 161   0   0   0   0   0  26  10   0   0   0   0   0   0 136 249 228 159   0   0   0]\n",
            " [  0   0   0   0  13  64  70  27   0   4   3   1   0   0   0   0   0   2   4   1   0   7  76  62  14   0   0   0]]\n"
          ],
          "name": "stdout"
        },
        {
          "output_type": "display_data",
          "data": {
            "image/png": "[encoded data removed]",
            "text/plain": [
              "<Figure size 432x288 with 1 Axes>"
            ]
          },
          "metadata": {
            "tags": [],
            "needs_background": "light"
          }
        }
      ]
    },
    {
      "cell_type": "code",
      "metadata": {
        "id": "5H6aAk_WAMOZ"
      },
      "source": [
        "training_images  = training_images / 255.0\n",
        "test_images = test_images / 255.0"
      ],
      "execution_count": 8,
      "outputs": []
    },
    {
      "cell_type": "code",
      "metadata": {
        "id": "tpZaQCquAr_Y"
      },
      "source": [
        "model = tf.keras.models.Sequential([tf.keras.layers.Flatten(), \n",
        "                                    tf.keras.layers.Dense(128, activation=tf.nn.relu), \n",
        "                                    tf.keras.layers.Dense(10, activation=tf.nn.softmax)])"
      ],
      "execution_count": 9,
      "outputs": []
    },
    {
      "cell_type": "code",
      "metadata": {
        "id": "4t4vZIwwAsBT",
        "outputId": "2019da91-9e33-485a-eb39-051513c5f7ad",
        "colab": {
          "base_uri": "https://localhost:8080/"
        }
      },
      "source": [
        "model.compile(optimizer = tf.optimizers.Adam(),\n",
        "              loss = 'sparse_categorical_crossentropy',\n",
        "              metrics=['accuracy'])\n",
        "\n",
        "model.fit(training_images, training_labels, epochs=5)"
      ],
      "execution_count": 10,
      "outputs": [
        {
          "output_type": "stream",
          "text": [
            "Epoch 1/5\n",
            "60000/60000 [==============================] - 6s 94us/sample - loss: 0.4964 - accuracy: 0.8240\n",
            "Epoch 2/5\n",
            "60000/60000 [==============================] - 6s 94us/sample - loss: 0.3727 - accuracy: 0.8664\n",
            "Epoch 3/5\n",
            "60000/60000 [==============================] - 5s 90us/sample - loss: 0.3368 - accuracy: 0.8771\n",
            "Epoch 4/5\n",
            "60000/60000 [==============================] - 5s 89us/sample - loss: 0.3158 - accuracy: 0.8834\n",
            "Epoch 5/5\n",
            "60000/60000 [==============================] - 5s 90us/sample - loss: 0.2984 - accuracy: 0.8895\n"
          ],
          "name": "stdout"
        },
        {
          "output_type": "execute_result",
          "data": {
            "text/plain": [
              "<tensorflow.python.keras.callbacks.History at 0x7f6f30e658d0>"
            ]
          },
          "metadata": {
            "tags": []
          },
          "execution_count": 10
        }
      ]
    },
    {
      "cell_type": "code",
      "metadata": {
        "id": "FNHayiQvAsEq",
        "outputId": "ff6bda5b-36c2-40fc-fe2b-44f76120acc7",
        "colab": {
          "base_uri": "https://localhost:8080/"
        }
      },
      "source": [
        "model.evaluate(test_images, test_labels)"
      ],
      "execution_count": 11,
      "outputs": [
        {
          "output_type": "stream",
          "text": [
            "10000/10000 [==============================] - 0s 46us/sample - loss: 0.3489 - accuracy: 0.8736\n"
          ],
          "name": "stdout"
        },
        {
          "output_type": "execute_result",
          "data": {
            "text/plain": [
              "[0.3489032684803009, 0.8736]"
            ]
          },
          "metadata": {
            "tags": []
          },
          "execution_count": 11
        }
      ]
    }
  ]
}