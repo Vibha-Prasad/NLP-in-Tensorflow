{
  "nbformat": 4,
  "nbformat_minor": 0,
  "metadata": {
    "accelerator": "GPU",
    "colab": {
      "name": "Course 3 - Week 3 - Lesson 2.ipynb",
      "provenance": [],
      "collapsed_sections": []
    },
    "kernelspec": {
      "display_name": "Python 3",
      "language": "python",
      "name": "python3"
    },
    "language_info": {
      "codemirror_mode": {
        "name": "ipython",
        "version": 3
      },
      "file_extension": ".py",
      "mimetype": "text/x-python",
      "name": "python",
      "nbconvert_exporter": "python",
      "pygments_lexer": "ipython3",
      "version": "3.7.6"
    }
  },
  "cells": [
    {
      "cell_type": "code",
      "metadata": {
        "id": "zX4Kg8DUTKWO"
      },
      "source": [
        "#@title Licensed under the Apache License, Version 2.0 (the \"License\");\n",
        "# you may not use this file except in compliance with the License.\n",
        "# You may obtain a copy of the License at\n",
        "#\n",
        "# https://www.apache.org/licenses/LICENSE-2.0\n",
        "#\n",
        "# Unless required by applicable law or agreed to in writing, software\n",
        "# distributed under the License is distributed on an \"AS IS\" BASIS,\n",
        "# WITHOUT WARRANTIES OR CONDITIONS OF ANY KIND, either express or implied.\n",
        "# See the License for the specific language governing permissions and\n",
        "# limitations under the License."
      ],
      "execution_count": null,
      "outputs": []
    },
    {
      "cell_type": "markdown",
      "metadata": {
        "id": "sFus5EBiJxUU"
      },
      "source": [
        "<a href=\"https://colab.research.google.com/github/lmoroney/dlaicourse/blob/master/TensorFlow%20In%20Practice/Course%203%20-%20NLP/Course%203%20-%20Week%203%20-%20Lesson%202.ipynb\" target=\"_parent\"><img src=\"https://colab.research.google.com/assets/colab-badge.svg\" alt=\"Open In Colab\"/></a>"
      ]
    },
    {
      "cell_type": "code",
      "metadata": {
        "id": "jGwXGIXvFhXW",
        "outputId": "7c7a40d1-c447-49eb-c77e-18666f26eb72",
        "colab": {
          "base_uri": "https://localhost:8080/"
        }
      },
      "source": [
        "import numpy as np\n",
        "\n",
        "import json\n",
        "import tensorflow as tf\n",
        "\n",
        "from tensorflow.keras.preprocessing.text import Tokenizer\n",
        "from tensorflow.keras.preprocessing.sequence import pad_sequences\n",
        "\n",
        "!wget --no-check-certificate \\\n",
        "    https://storage.googleapis.com/laurencemoroney-blog.appspot.com/sarcasm.json \\\n",
        "    -O /tmp/sarcasm.json\n",
        "\n",
        "vocab_size = 1000\n",
        "embedding_dim = 16\n",
        "max_length = 120\n",
        "trunc_type='post'\n",
        "padding_type='post'\n",
        "oov_tok = \"<OOV>\"\n",
        "training_size = 20000\n",
        "\n",
        "\n",
        "with open(\"/tmp/sarcasm.json\", 'r') as f:\n",
        "    datastore = json.load(f)\n",
        "\n",
        "\n",
        "sentences = []\n",
        "labels = []\n",
        "urls = []\n",
        "for item in datastore:\n",
        "    sentences.append(item['headline'])\n",
        "    labels.append(item['is_sarcastic'])\n",
        "\n",
        "training_sentences = sentences[0:training_size]\n",
        "testing_sentences = sentences[training_size:]\n",
        "training_labels = labels[0:training_size]\n",
        "testing_labels = labels[training_size:]\n",
        "\n",
        "tokenizer = Tokenizer(num_words=vocab_size, oov_token=oov_tok)\n",
        "tokenizer.fit_on_texts(training_sentences)\n",
        "\n",
        "word_index = tokenizer.word_index\n",
        "\n",
        "training_sequences = tokenizer.texts_to_sequences(training_sentences)\n",
        "training_padded = pad_sequences(training_sequences, maxlen=max_length, padding=padding_type, truncating=trunc_type)\n",
        "\n",
        "testing_sequences = tokenizer.texts_to_sequences(testing_sentences)\n",
        "testing_padded = pad_sequences(testing_sequences, maxlen=max_length, padding=padding_type, truncating=trunc_type)\n",
        "\n",
        "model = tf.keras.Sequential([\n",
        "    tf.keras.layers.Embedding(vocab_size, embedding_dim, input_length=max_length),\n",
        "    tf.keras.layers.Bidirectional(tf.keras.layers.LSTM(32)),\n",
        "    tf.keras.layers.Dense(24, activation='relu'),\n",
        "    tf.keras.layers.Dense(1, activation='sigmoid')\n",
        "])\n",
        "model.compile(loss='binary_crossentropy',optimizer='adam',metrics=['accuracy'])\n",
        "model.summary()\n",
        "\n",
        "num_epochs = 50\n",
        "training_padded = np.array(training_padded)\n",
        "training_labels = np.array(training_labels)\n",
        "testing_padded = np.array(testing_padded)\n",
        "testing_labels = np.array(testing_labels)\n",
        "history = model.fit(training_padded, training_labels, epochs=num_epochs, validation_data=(testing_padded, testing_labels), verbose=1)\n"
      ],
      "execution_count": 1,
      "outputs": [
        {
          "output_type": "stream",
          "text": [
            "--2020-10-30 06:29:09--  https://storage.googleapis.com/laurencemoroney-blog.appspot.com/sarcasm.json\n",
            "Resolving storage.googleapis.com (storage.googleapis.com)... 172.217.7.144, 172.217.7.208, 172.217.7.240, ...\n",
            "Connecting to storage.googleapis.com (storage.googleapis.com)|172.217.7.144|:443... connected.\n",
            "HTTP request sent, awaiting response... 200 OK\n",
            "Length: 5643545 (5.4M) [application/json]\n",
            "Saving to: ‘/tmp/sarcasm.json’\n",
            "\n",
            "\r/tmp/sarcasm.json     0%[                    ]       0  --.-KB/s               \r/tmp/sarcasm.json   100%[===================>]   5.38M  --.-KB/s    in 0.05s   \n",
            "\n",
            "2020-10-30 06:29:10 (107 MB/s) - ‘/tmp/sarcasm.json’ saved [5643545/5643545]\n",
            "\n",
            "Model: \"sequential\"\n",
            "_________________________________________________________________\n",
            "Layer (type)                 Output Shape              Param #   \n",
            "=================================================================\n",
            "embedding (Embedding)        (None, 120, 16)           16000     \n",
            "_________________________________________________________________\n",
            "bidirectional (Bidirectional (None, 64)                12544     \n",
            "_________________________________________________________________\n",
            "dense (Dense)                (None, 24)                1560      \n",
            "_________________________________________________________________\n",
            "dense_1 (Dense)              (None, 1)                 25        \n",
            "=================================================================\n",
            "Total params: 30,129\n",
            "Trainable params: 30,129\n",
            "Non-trainable params: 0\n",
            "_________________________________________________________________\n",
            "Epoch 1/50\n",
            "625/625 [==============================] - 10s 16ms/step - loss: 0.4814 - accuracy: 0.7638 - val_loss: 0.3856 - val_accuracy: 0.8217\n",
            "Epoch 2/50\n",
            "625/625 [==============================] - 9s 15ms/step - loss: 0.3562 - accuracy: 0.8361 - val_loss: 0.3821 - val_accuracy: 0.8244\n",
            "Epoch 3/50\n",
            "625/625 [==============================] - 9s 15ms/step - loss: 0.3319 - accuracy: 0.8499 - val_loss: 0.3665 - val_accuracy: 0.8311\n",
            "Epoch 4/50\n",
            "625/625 [==============================] - 9s 15ms/step - loss: 0.3167 - accuracy: 0.8612 - val_loss: 0.3715 - val_accuracy: 0.8307\n",
            "Epoch 5/50\n",
            "625/625 [==============================] - 9s 15ms/step - loss: 0.3094 - accuracy: 0.8605 - val_loss: 0.3801 - val_accuracy: 0.8268\n",
            "Epoch 6/50\n",
            "625/625 [==============================] - 9s 15ms/step - loss: 0.3015 - accuracy: 0.8663 - val_loss: 0.3807 - val_accuracy: 0.8310\n",
            "Epoch 7/50\n",
            "625/625 [==============================] - 10s 15ms/step - loss: 0.2964 - accuracy: 0.8692 - val_loss: 0.3793 - val_accuracy: 0.8283\n",
            "Epoch 8/50\n",
            "625/625 [==============================] - 9s 15ms/step - loss: 0.2889 - accuracy: 0.8714 - val_loss: 0.3975 - val_accuracy: 0.8286\n",
            "Epoch 9/50\n",
            "625/625 [==============================] - 9s 15ms/step - loss: 0.2813 - accuracy: 0.8746 - val_loss: 0.3992 - val_accuracy: 0.8258\n",
            "Epoch 10/50\n",
            "625/625 [==============================] - 9s 15ms/step - loss: 0.2743 - accuracy: 0.8798 - val_loss: 0.3900 - val_accuracy: 0.8295\n",
            "Epoch 11/50\n",
            "625/625 [==============================] - 9s 15ms/step - loss: 0.2663 - accuracy: 0.8819 - val_loss: 0.3916 - val_accuracy: 0.8281\n",
            "Epoch 12/50\n",
            "625/625 [==============================] - 9s 15ms/step - loss: 0.2557 - accuracy: 0.8885 - val_loss: 0.3986 - val_accuracy: 0.8280\n",
            "Epoch 13/50\n",
            "625/625 [==============================] - 9s 15ms/step - loss: 0.2499 - accuracy: 0.8924 - val_loss: 0.4106 - val_accuracy: 0.8237\n",
            "Epoch 14/50\n",
            "625/625 [==============================] - 9s 15ms/step - loss: 0.2394 - accuracy: 0.8961 - val_loss: 0.4120 - val_accuracy: 0.8231\n",
            "Epoch 15/50\n",
            "625/625 [==============================] - 9s 15ms/step - loss: 0.2323 - accuracy: 0.8990 - val_loss: 0.4436 - val_accuracy: 0.8211\n",
            "Epoch 16/50\n",
            "625/625 [==============================] - 9s 15ms/step - loss: 0.2242 - accuracy: 0.9058 - val_loss: 0.4453 - val_accuracy: 0.8229\n",
            "Epoch 17/50\n",
            "625/625 [==============================] - 9s 15ms/step - loss: 0.2179 - accuracy: 0.9069 - val_loss: 0.4600 - val_accuracy: 0.8217\n",
            "Epoch 18/50\n",
            "625/625 [==============================] - 9s 15ms/step - loss: 0.2069 - accuracy: 0.9136 - val_loss: 0.5047 - val_accuracy: 0.8185\n",
            "Epoch 19/50\n",
            "625/625 [==============================] - 9s 15ms/step - loss: 0.2018 - accuracy: 0.9153 - val_loss: 0.4852 - val_accuracy: 0.8201\n",
            "Epoch 20/50\n",
            "625/625 [==============================] - 9s 15ms/step - loss: 0.1960 - accuracy: 0.9186 - val_loss: 0.5553 - val_accuracy: 0.8165\n",
            "Epoch 21/50\n",
            "625/625 [==============================] - 9s 15ms/step - loss: 0.1899 - accuracy: 0.9216 - val_loss: 0.5429 - val_accuracy: 0.8168\n",
            "Epoch 22/50\n",
            "625/625 [==============================] - 9s 15ms/step - loss: 0.1836 - accuracy: 0.9230 - val_loss: 0.5423 - val_accuracy: 0.8164\n",
            "Epoch 23/50\n",
            "625/625 [==============================] - 9s 15ms/step - loss: 0.1788 - accuracy: 0.9283 - val_loss: 0.6045 - val_accuracy: 0.8143\n",
            "Epoch 24/50\n",
            "625/625 [==============================] - 9s 15ms/step - loss: 0.1769 - accuracy: 0.9256 - val_loss: 0.6315 - val_accuracy: 0.8146\n",
            "Epoch 25/50\n",
            "625/625 [==============================] - 9s 15ms/step - loss: 0.1695 - accuracy: 0.9297 - val_loss: 0.6679 - val_accuracy: 0.8117\n",
            "Epoch 26/50\n",
            "625/625 [==============================] - 9s 15ms/step - loss: 0.1629 - accuracy: 0.9323 - val_loss: 0.6974 - val_accuracy: 0.8149\n",
            "Epoch 27/50\n",
            "625/625 [==============================] - 9s 15ms/step - loss: 0.1559 - accuracy: 0.9349 - val_loss: 0.7394 - val_accuracy: 0.8140\n",
            "Epoch 28/50\n",
            "625/625 [==============================] - 9s 15ms/step - loss: 0.1554 - accuracy: 0.9343 - val_loss: 0.7654 - val_accuracy: 0.8103\n",
            "Epoch 29/50\n",
            "625/625 [==============================] - 9s 15ms/step - loss: 0.1522 - accuracy: 0.9366 - val_loss: 0.7641 - val_accuracy: 0.8113\n",
            "Epoch 30/50\n",
            "625/625 [==============================] - 9s 15ms/step - loss: 0.1438 - accuracy: 0.9413 - val_loss: 0.7656 - val_accuracy: 0.8125\n",
            "Epoch 31/50\n",
            "625/625 [==============================] - 9s 15ms/step - loss: 0.1419 - accuracy: 0.9427 - val_loss: 0.8413 - val_accuracy: 0.8049\n",
            "Epoch 32/50\n",
            "625/625 [==============================] - 9s 15ms/step - loss: 0.1343 - accuracy: 0.9447 - val_loss: 0.8423 - val_accuracy: 0.8070\n",
            "Epoch 33/50\n",
            "625/625 [==============================] - 9s 15ms/step - loss: 0.1302 - accuracy: 0.9461 - val_loss: 0.8917 - val_accuracy: 0.8004\n",
            "Epoch 34/50\n",
            "625/625 [==============================] - 9s 15ms/step - loss: 0.1280 - accuracy: 0.9472 - val_loss: 0.9924 - val_accuracy: 0.8116\n",
            "Epoch 35/50\n",
            "625/625 [==============================] - 9s 15ms/step - loss: 0.1227 - accuracy: 0.9502 - val_loss: 1.0040 - val_accuracy: 0.8074\n",
            "Epoch 36/50\n",
            "625/625 [==============================] - 9s 15ms/step - loss: 0.1166 - accuracy: 0.9520 - val_loss: 0.9976 - val_accuracy: 0.7961\n",
            "Epoch 37/50\n",
            "625/625 [==============================] - 9s 15ms/step - loss: 0.1143 - accuracy: 0.9525 - val_loss: 1.0842 - val_accuracy: 0.8021\n",
            "Epoch 38/50\n",
            "625/625 [==============================] - 9s 15ms/step - loss: 0.1117 - accuracy: 0.9543 - val_loss: 1.1087 - val_accuracy: 0.7907\n",
            "Epoch 39/50\n",
            "625/625 [==============================] - 9s 15ms/step - loss: 0.1083 - accuracy: 0.9552 - val_loss: 1.1305 - val_accuracy: 0.8035\n",
            "Epoch 40/50\n",
            "625/625 [==============================] - 10s 15ms/step - loss: 0.1040 - accuracy: 0.9578 - val_loss: 1.2061 - val_accuracy: 0.7959\n",
            "Epoch 41/50\n",
            "625/625 [==============================] - 10s 16ms/step - loss: 0.0974 - accuracy: 0.9586 - val_loss: 1.2473 - val_accuracy: 0.8018\n",
            "Epoch 42/50\n",
            "625/625 [==============================] - 9s 15ms/step - loss: 0.0961 - accuracy: 0.9580 - val_loss: 1.3171 - val_accuracy: 0.8013\n",
            "Epoch 43/50\n",
            "625/625 [==============================] - 9s 15ms/step - loss: 0.0973 - accuracy: 0.9585 - val_loss: 1.2523 - val_accuracy: 0.7971\n",
            "Epoch 44/50\n",
            "625/625 [==============================] - 9s 15ms/step - loss: 0.0843 - accuracy: 0.9640 - val_loss: 1.4690 - val_accuracy: 0.7943\n",
            "Epoch 45/50\n",
            "625/625 [==============================] - 9s 15ms/step - loss: 0.0856 - accuracy: 0.9633 - val_loss: 1.4881 - val_accuracy: 0.7945\n",
            "Epoch 46/50\n",
            "625/625 [==============================] - 9s 15ms/step - loss: 0.0858 - accuracy: 0.9642 - val_loss: 1.3820 - val_accuracy: 0.8003\n",
            "Epoch 47/50\n",
            "625/625 [==============================] - 9s 15ms/step - loss: 0.0813 - accuracy: 0.9660 - val_loss: 1.4821 - val_accuracy: 0.8013\n",
            "Epoch 48/50\n",
            "625/625 [==============================] - 9s 15ms/step - loss: 0.0780 - accuracy: 0.9675 - val_loss: 1.5828 - val_accuracy: 0.8006\n",
            "Epoch 49/50\n",
            "625/625 [==============================] - 9s 15ms/step - loss: 0.0763 - accuracy: 0.9681 - val_loss: 1.5885 - val_accuracy: 0.7979\n",
            "Epoch 50/50\n",
            "625/625 [==============================] - 9s 15ms/step - loss: 0.0692 - accuracy: 0.9706 - val_loss: 1.6846 - val_accuracy: 0.7939\n"
          ],
          "name": "stdout"
        }
      ]
    },
    {
      "cell_type": "code",
      "metadata": {
        "id": "g9DC6dmLF8DC",
        "outputId": "dc438ed6-5be0-4193-9f23-55373f3eed35",
        "colab": {
          "base_uri": "https://localhost:8080/",
          "height": 541
        }
      },
      "source": [
        "import matplotlib.pyplot as plt\n",
        "\n",
        "\n",
        "def plot_graphs(history, string):\n",
        "  plt.plot(history.history[string])\n",
        "  plt.plot(history.history['val_'+string])\n",
        "  plt.xlabel(\"Epochs\")\n",
        "  plt.ylabel(string)\n",
        "  plt.legend([string, 'val_'+string])\n",
        "  plt.show()\n",
        "\n",
        "plot_graphs(history, 'accuracy')\n",
        "plot_graphs(history, 'loss')"
      ],
      "execution_count": 2,
      "outputs": [
        {
          "output_type": "display_data",
          "data": {
            "image/png": "[encoded data removed]",
            "text/plain": [
              "<Figure size 432x288 with 1 Axes>"
            ]
          },
          "metadata": {
            "tags": [],
            "needs_background": "light"
          }
        },
        {
          "output_type": "display_data",
          "data": {
            "image/png": "[encoded data removed]",
            "text/plain": [
              "<Figure size 432x288 with 1 Axes>"
            ]
          },
          "metadata": {
            "tags": [],
            "needs_background": "light"
          }
        }
      ]
    },
    {
      "cell_type": "code",
      "metadata": {
        "id": "7ZEZIUppGhdi"
      },
      "source": [
        "model.save(\"test.h5\")"
      ],
      "execution_count": 3,
      "outputs": []
    }
  ]
}